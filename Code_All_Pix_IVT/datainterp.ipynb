{
 "cells": [
  {
   "cell_type": "code",
   "execution_count": null,
   "metadata": {},
   "outputs": [],
   "source": [
    "warnings.filterwarnings('ignore')"
   ]
  },
  {
   "cell_type": "code",
   "execution_count": null,
   "metadata": {},
   "outputs": [],
   "source": [
    "def data_interp(df,Fs):\n",
    "    if Fs == 1000:\n",
    "        pts = 33\n",
    "        factt=1000\n",
    "    if Fs == 90:\n",
    "        pts = 7\n",
    "        factt=1000\n",
    "    if Fs == 60:\n",
    "        pts = 7\n",
    "        factt=1000\n",
    "        \n",
    "    x=df[\"xp\"]\n",
    "    y=df[\"yp\"]\n",
    "    t=df[\"t\"]\n",
    "    dt=(t[1]-t[0])/factt\n",
    "    \n",
    "    #Multiplico la velocidad por 1000 para pasar de pix/msec a pix/sec\n",
    "    dfc = np.zeros(x.size,dtype={\"names\":('t','xp','yp','vpx','vpy','vpr','trial','interp'),\"formats\":('float','float','float','float','float','float','int','int')})\n",
    "    \n",
    "    theta_interp=savgol_filter(x, pts,2,deriv=0, mode='interp') #Filtro angulo visual x\n",
    "    w_interp=np.abs(savgol_filter(x, pts, 2,deriv=1,delta=dt, mode='interp')) #Filtro velocidad (Pix/seg)\n",
    "    dfc['xp']=theta_interp\n",
    "    dfc['vpx']=w_interp\n",
    "    \n",
    "    theta_interp=savgol_filter(y, pts,2,deriv=0, mode='interp') #Filtro angulo visual y\n",
    "    w_interp=np.abs(savgol_filter(y, pts, 2,deriv=1,delta=dt, mode='interp')) #Filtro velocidad angular (Pix/seg)\n",
    "    dfc['yp']=theta_interp\n",
    "    dfc['vpy']=w_interp\n",
    "    \n",
    "    w_interp=np.sqrt(dfc[\"vpx\"]**2+dfc[\"vpy\"]**2) #Calcula módulo de la velocidad\n",
    "    dfc['vpr']=w_interp\n",
    "    dfc['t']=df[\"t\"]\n",
    "    dfc['trial']=df[\"trial\"]\n",
    "    dfc[\"interp\"]=df[\"interp\"]\n",
    "    df_int=pd.DataFrame(dfc)\n",
    "    return (df_int)"
   ]
  }
 ],
 "metadata": {
  "kernelspec": {
   "display_name": "Python 3",
   "language": "python",
   "name": "python3"
  },
  "language_info": {
   "codemirror_mode": {
    "name": "ipython",
    "version": 3
   },
   "file_extension": ".py",
   "mimetype": "text/x-python",
   "name": "python",
   "nbconvert_exporter": "python",
   "pygments_lexer": "ipython3",
   "version": "3.8.2"
  }
 },
 "nbformat": 4,
 "nbformat_minor": 2
}

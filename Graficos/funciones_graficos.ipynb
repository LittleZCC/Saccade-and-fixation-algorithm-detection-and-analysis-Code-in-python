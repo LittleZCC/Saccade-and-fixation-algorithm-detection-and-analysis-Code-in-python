{
 "cells": [
  {
   "cell_type": "code",
   "execution_count": null,
   "metadata": {},
   "outputs": [],
   "source": [
    "warnings.filterwarnings('ignore')"
   ]
  },
  {
   "cell_type": "code",
   "execution_count": null,
   "metadata": {},
   "outputs": [],
   "source": [
    "def plot_fixations(fix_xy,trial,filename_in,resx,resy,directory_trials,size,nfix,directory_out):\n",
    "    \n",
    "    num=np.arange(nfix)+1\n",
    "    \n",
    "    im = plt.imread(directory_trials + \"Trial\" + str(ntrial) + \".png\")\n",
    "    fig, ax = plt.subplots()\n",
    "    im = ax.imshow(im, extent=[-resx/2, resx/2, -resy/2, resy/2])\n",
    "    plt.scatter(fix_xy[:,0],fix_xy[:,1],s=size)\n",
    "    for j in range(nfix):\n",
    "        plt.text(fix_xy[j,0]+.03, fix_xy[j,1]+.03, num[j], fontsize=8)\n",
    "        \n",
    "    file1=os.path.split(filename_in)\n",
    "    file2=os.path.splitext(file1[1])\n",
    "    plt.savefig(directory_out + \"Fixations_Trial\" + str(ntrial) + \"_\" + file2[0] + \".png\")     \n",
    "\n",
    "    return"
   ]
  },
  {
   "cell_type": "code",
   "execution_count": null,
   "metadata": {},
   "outputs": [],
   "source": [
    "def plot_trajectory(fix_xy,x,y,trial,filename_in,resx,resy,directory_trials,size,nfix,directory_out):\n",
    "    \n",
    "    num=np.arange(nfix)+1\n",
    "    \n",
    "    im = plt.imread(directory_trials + \"Trial\" + str(ntrial) + \".png\")\n",
    "    fig, ax = plt.subplots()\n",
    "    im = ax.imshow(im, extent=[-resx/2, resx/2, -resy/2, resy/2])\n",
    "    plt.scatter(fix_xy[:,0],fix_xy[:,1],s=size)\n",
    "    plt.plot(x,y,color='red',linewidth=2)\n",
    "    for j in range(nfix):\n",
    "        plt.text(fix_xy[j,0]+.03, fix_xy[j,1]+.03, num[j], fontsize=8)\n",
    "        \n",
    "    file1=os.path.split(filename_in)\n",
    "    file2=os.path.splitext(file1[1])\n",
    "    plt.savefig(directory_out + \"Trajectory_Trial\" + str(ntrial) + \"_\" + file2[0] + \".png\")     \n",
    "\n",
    "    return"
   ]
  },
  {
   "cell_type": "code",
   "execution_count": null,
   "metadata": {},
   "outputs": [],
   "source": [
    "def plot_sacades(fix_xy,trial,filename_in,resx,resy,directory_trials,size,nfix,directory_out):\n",
    "    \n",
    "    orig_x=fix_xy[0:nfix-1,0]\n",
    "    orig_y=fix_xy[0:nfix-1,1]\n",
    "    fin_x=fix_xy[1:nfix,0]\n",
    "    fin_y=fix_xy[1:nfix,1]\n",
    "    U=fin_x-orig_x\n",
    "    V=fin_y-orig_y\n",
    "    \n",
    "    ang=np.arctan2(V, U)\n",
    "    cmap = plt.cm.jet\n",
    "    cNorm  = colors.Normalize(vmin=-math.pi, vmax=math.pi)\n",
    "    scalarMap = cmx.ScalarMappable(norm=cNorm,cmap=cmap)\n",
    "    \n",
    "    im = plt.imread(directory_trials + \"Trial\" + str(ntrial) + \".png\")\n",
    "    fig, ax = plt.subplots()\n",
    "    plt.scatter(orig_x[0],orig_y[0],s=50,c='black')\n",
    "    plt.text(orig_x[0]+.03, orig_y[0]+.03, 'Inicio', fontsize=8)\n",
    "    plt.scatter(fin_x[nfix-2],fin_y[nfix-2],s=50,c='black')\n",
    "    plt.text(fin_x[nfix-2]+.03, fin_y[nfix-2]+.03, 'Fin', fontsize=8)\n",
    "    im = ax.imshow(im, extent=[-resx/2, resx/2, -resy/2, resy/2])\n",
    "\n",
    "    for idx in range(0,len(orig_x)):\n",
    "        colorVal = scalarMap.to_rgba(ang[idx])\n",
    "        im1=ax.arrow(orig_x[idx],orig_y[idx],U[idx],V[idx],length_includes_head=True,head_width=30, head_length=15,color=colorVal)\n",
    "\n",
    "    axc = fig.add_axes([1, 0.10, 0.05, 0.85])\n",
    "    cb1 = mpl.colorbar.ColorbarBase(axc, cmap=cmap,norm=cNorm,orientation='vertical')\n",
    "\n",
    "    file1=os.path.split(filename_in)\n",
    "    file2=os.path.splitext(file1[1])\n",
    "    plt.savefig(directory_out + \"Sacadas_Trial\" + str(ntrial) + \"_\" + file2[0] + \".png\")\n",
    "\n",
    "    return"
   ]
  }
 ],
 "metadata": {
  "kernelspec": {
   "display_name": "Python 3",
   "language": "python",
   "name": "python3"
  },
  "language_info": {
   "codemirror_mode": {
    "name": "ipython",
    "version": 3
   },
   "file_extension": ".py",
   "mimetype": "text/x-python",
   "name": "python",
   "nbconvert_exporter": "python",
   "pygments_lexer": "ipython3",
   "version": "3.8.2"
  }
 },
 "nbformat": 4,
 "nbformat_minor": 2
}
